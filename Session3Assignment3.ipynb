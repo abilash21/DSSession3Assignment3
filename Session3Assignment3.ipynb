{
 "cells": [
  {
   "cell_type": "code",
   "execution_count": 11,
   "metadata": {},
   "outputs": [
    {
     "name": "stdout",
     "output_type": "stream",
     "text": [
      "['murugan']\n"
     ]
    }
   ],
   "source": [
    "def longestword(l):\n",
    "    '''\n",
    "        Returns longest words in a list, return type is a list.\n",
    "    '''\n",
    "    wordlen = 0    # to store logest word length\n",
    "    longestword = list() # used list to return multiple words with same length as logest word\n",
    "    for word in l:\n",
    "        if len(word)> wordlen:  # Length of word is bigger than previously stored lenth of logest word\n",
    "            wordlen = len(word) \n",
    "            longestword.clear() # Clear list\n",
    "            longestword.append(word)\n",
    "        elif len(word)== wordlen:\n",
    "            longestword.append(word)\n",
    "        \n",
    "    return longestword\n",
    "print(longestword(['abi','test','vikram', 'murugan']))"
   ]
  },
  {
   "cell_type": "code",
   "execution_count": null,
   "metadata": {
    "collapsed": true
   },
   "outputs": [],
   "source": []
  }
 ],
 "metadata": {
  "kernelspec": {
   "display_name": "Python 3",
   "language": "python",
   "name": "python3"
  },
  "language_info": {
   "codemirror_mode": {
    "name": "ipython",
    "version": 3
   },
   "file_extension": ".py",
   "mimetype": "text/x-python",
   "name": "python",
   "nbconvert_exporter": "python",
   "pygments_lexer": "ipython3",
   "version": "3.6.3"
  }
 },
 "nbformat": 4,
 "nbformat_minor": 2
}
